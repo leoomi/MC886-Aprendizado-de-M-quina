{
 "cells": [
  {
   "cell_type": "code",
   "execution_count": 4,
   "metadata": {
    "collapsed": true
   },
   "outputs": [],
   "source": [
    "import matplotlib.pyplot as plt\n",
    "import numpy as np\n",
    "from numpy import genfromtxt\n",
    "import scipy\n",
    "from sklearn.linear_model import LogisticRegression\n",
    "from sklearn.metrics import mean_squared_error\n",
    "from sklearn.model_selection import train_test_split\n",
    "from sklearn.model_selection import KFold\n",
    "from skimage import io\n",
    "from skimage.color import rgb2gray\n",
    "from skimage.filters import roberts, sobel, scharr, prewitt\n",
    "from sklearn.decomposition import PCA\n",
    "train_set_dir = 'cifar-10/train/'\n",
    "test_set_dir = 'cifar-10/test/'"
   ]
  },
  {
   "cell_type": "code",
   "execution_count": 5,
   "metadata": {},
   "outputs": [
    {
     "data": {
      "text/plain": [
       "(array([ 6.,  9.,  9., ...,  9.,  1.,  1.]), (50000,))"
      ]
     },
     "execution_count": 5,
     "metadata": {},
     "output_type": "execute_result"
    }
   ],
   "source": [
    "img_labels = genfromtxt(train_set_dir + 'labels')\n",
    "img_labels, img_labels.shape"
   ]
  },
  {
   "cell_type": "code",
   "execution_count": 6,
   "metadata": {},
   "outputs": [
    {
     "data": {
      "text/plain": [
       "array([[ -7.04735316e-01,   6.61165182e-01,  -7.38088116e-01, ...,\n",
       "         -1.08967377e+00,   1.99666413e-01,  -4.21821898e-01],\n",
       "       [  3.82689127e-02,  -2.44954738e-01,  -1.68389032e+00, ...,\n",
       "          3.78074581e+00,   5.63324492e-01,   8.52676735e-01],\n",
       "       [  1.00255745e+00,  -2.53248381e+00,   6.40279535e-01, ...,\n",
       "         -4.62366146e-01,  -1.80424411e-01,  -7.08352178e-01],\n",
       "       ..., \n",
       "       [ -3.70438239e-02,  -2.41636500e+00,   2.76119701e-01, ...,\n",
       "          2.93723411e-01,   1.11616737e+00,   4.44922312e-01],\n",
       "       [  1.41274719e+00,  -6.91003242e-01,  -1.52481142e+00, ...,\n",
       "          3.39348376e-01,   1.11697334e-01,  -6.78384810e-01],\n",
       "       [  4.99252604e-01,  -2.71186007e-01,   1.23507790e+00, ...,\n",
       "         -6.79991430e-01,   1.84416791e-03,   3.25099697e+00]])"
      ]
     },
     "execution_count": 6,
     "metadata": {},
     "output_type": "execute_result"
    }
   ],
   "source": [
    "img_data = np.empty([50000, 1024])\n",
    "\n",
    "for i in range(0, 50000):\n",
    "    filename = '{0:05d}'.format(i) + '.png'\n",
    "    img = rgb2gray(io.imread(train_set_dir + filename)) #Reading file, converting to Grayscale\n",
    "    img_data[i, :] = img.flatten()\n",
    "\n",
    "pca = PCA(n_components=40, whiten=True)\n",
    "pca.fit(img_data)\n",
    "img_data = pca.transform(img_data)\n",
    "img_data"
   ]
  },
  {
   "cell_type": "code",
   "execution_count": 7,
   "metadata": {},
   "outputs": [
    {
     "data": {
      "text/plain": [
       "5"
      ]
     },
     "execution_count": 7,
     "metadata": {},
     "output_type": "execute_result"
    }
   ],
   "source": [
    "# Split the data using K-Folds, using 5 different sets\n",
    "kf = KFold(n_splits=5)\n",
    "kf.get_n_splits(img_data)"
   ]
  },
  {
   "cell_type": "code",
   "execution_count": 9,
   "metadata": {},
   "outputs": [
    {
     "name": "stdout",
     "output_type": "stream",
     "text": [
      "Set 1 -- Train Score: 0.30 Validation score: 0.30\n",
      "Set 2 -- Train Score: 0.31 Validation score: 0.29\n",
      "Set 3 -- Train Score: 0.30 Validation score: 0.31\n",
      "Set 4 -- Train Score: 0.30 Validation score: 0.30\n",
      "Set 5 -- Train Score: 0.30 Validation score: 0.30\n"
     ]
    }
   ],
   "source": [
    "count = 0\n",
    "train_score = np.zeros(5)\n",
    "val_score = np.zeros(5)\n",
    "for train_index, val_index in kf.split(img_data):\n",
    "    img_data_train, img_data_val = img_data[train_index], img_data[val_index]\n",
    "    img_labels_train, img_labels_val = img_labels[train_index], img_labels[val_index]\n",
    "    \n",
    "    regr = LogisticRegression(multi_class='multinomial', solver='sag')\n",
    "    regr.fit(img_data_train, img_labels_train)\n",
    "\n",
    "    count += 1\n",
    "    train_score[count-1] = regr.score(img_data_train, img_labels_train)\n",
    "    val_score[count-1] = regr.score(img_data_val, img_labels_val)\n",
    "    print(\"Set %d -- Train Score: %.2f Validation score: %.2f\"\n",
    "      % (count, train_score[count-1], val_score[count-1]))\n",
    "    "
   ]
  },
  {
   "cell_type": "code",
   "execution_count": 10,
   "metadata": {},
   "outputs": [
    {
     "name": "stdout",
     "output_type": "stream",
     "text": [
      "Mean Score Train: 0.30 Mean Score Validation: 0.30\n"
     ]
    }
   ],
   "source": [
    "print(\"Mean Score Train: %.2f Mean Score Validation: %.2f\" % (np.average(train_score), np.average(val_score)))"
   ]
  },
  {
   "cell_type": "code",
   "execution_count": null,
   "metadata": {
    "collapsed": true
   },
   "outputs": [],
   "source": []
  }
 ],
 "metadata": {
  "kernelspec": {
   "display_name": "Python 3",
   "language": "python",
   "name": "python3"
  },
  "language_info": {
   "codemirror_mode": {
    "name": "ipython",
    "version": 3
   },
   "file_extension": ".py",
   "mimetype": "text/x-python",
   "name": "python",
   "nbconvert_exporter": "python",
   "pygments_lexer": "ipython3",
   "version": "3.6.2"
  }
 },
 "nbformat": 4,
 "nbformat_minor": 2
}
