{
 "cells": [
  {
   "cell_type": "code",
   "execution_count": 1,
   "metadata": {
    "collapsed": true
   },
   "outputs": [],
   "source": [
    "import matplotlib.pyplot as plt\n",
    "import numpy as np\n",
    "from numpy import genfromtxt\n",
    "import scipy\n",
    "from sklearn.linear_model import LogisticRegression\n",
    "from sklearn.metrics import mean_squared_error\n",
    "from sklearn.model_selection import train_test_split\n",
    "from sklearn.model_selection import KFold\n",
    "from skimage import io\n",
    "from skimage.color import rgb2gray\n",
    "from skimage.filters import roberts, sobel, scharr, prewitt\n",
    "train_set_dir = 'cifar-10/train/'\n",
    "test_set_dir = 'cifar-10/test/'"
   ]
  },
  {
   "cell_type": "code",
   "execution_count": 2,
   "metadata": {},
   "outputs": [
    {
     "data": {
      "text/plain": [
       "(array([ 6.,  9.,  9., ...,  9.,  1.,  1.]), (50000,))"
      ]
     },
     "execution_count": 2,
     "metadata": {},
     "output_type": "execute_result"
    }
   ],
   "source": [
    "img_labels = genfromtxt(train_set_dir + 'labels')\n",
    "img_labels, img_labels.shape"
   ]
  },
  {
   "cell_type": "code",
   "execution_count": 3,
   "metadata": {},
   "outputs": [
    {
     "data": {
      "text/plain": [
       "array([[ 0.24092   ,  0.17760941,  0.18848824, ...,  0.73579451,\n",
       "         0.48063176,  0.38096275],\n",
       "       [ 0.67777843,  0.52780549,  0.40613176, ...,  0.53159843,\n",
       "         0.53525216,  0.53301216],\n",
       "       [ 1.        ,  0.99215686,  0.99215686, ...,  0.32693451,\n",
       "         0.32776784,  0.33168941],\n",
       "       ..., \n",
       "       [ 0.59498902,  0.59467569,  0.59690784, ...,  0.19015686,\n",
       "         0.15679725,  0.11110745],\n",
       "       [ 0.81731725,  0.8052698 ,  0.80134824, ...,  0.72649412,\n",
       "         0.74192039,  0.74389255],\n",
       "       [ 0.90086667,  0.93140588,  0.92693373, ...,  0.69465333,\n",
       "         0.64257176,  0.6386502 ]])"
      ]
     },
     "execution_count": 3,
     "metadata": {},
     "output_type": "execute_result"
    }
   ],
   "source": [
    "img_data = np.empty([50000, 1024])\n",
    "\n",
    "for i in range(0, 50000):\n",
    "    filename = '{0:05d}'.format(i) + '.png'\n",
    "    img = rgb2gray(io.imread(train_set_dir + filename)) #Reading file, converting to Grayscale\n",
    "    img_data[i, :] = img.flatten()\n",
    "\n",
    "img_data"
   ]
  },
  {
   "cell_type": "code",
   "execution_count": 4,
   "metadata": {},
   "outputs": [
    {
     "data": {
      "text/plain": [
       "5"
      ]
     },
     "execution_count": 4,
     "metadata": {},
     "output_type": "execute_result"
    }
   ],
   "source": [
    "# Split the data using K-Folds, using 5 different sets\n",
    "kf = KFold(n_splits=5)\n",
    "kf.get_n_splits(img_data)"
   ]
  },
  {
   "cell_type": "code",
   "execution_count": 11,
   "metadata": {},
   "outputs": [
    {
     "name": "stderr",
     "output_type": "stream",
     "text": [
      "/usr/lib/python3.6/site-packages/sklearn/linear_model/sag.py:326: ConvergenceWarning: The max_iter was reached which means the coef_ did not converge\n",
      "  \"the coef_ did not converge\", ConvergenceWarning)\n"
     ]
    },
    {
     "name": "stdout",
     "output_type": "stream",
     "text": [
      "Set 1 -- Train Score: 0.34 Validation score: 0.29\n",
      "Set 2 -- Train Score: 0.35 Validation score: 0.27\n",
      "Set 3 -- Train Score: 0.35 Validation score: 0.29\n",
      "Set 4 -- Train Score: 0.35 Validation score: 0.28\n",
      "Set 5 -- Train Score: 0.35 Validation score: 0.28\n"
     ]
    }
   ],
   "source": [
    "count = 0\n",
    "train_score = np.zeros(5)\n",
    "val_score = np.zeros(5)\n",
    "for train_index, val_index in kf.split(img_data):\n",
    "    img_data_train, img_data_val = img_data[train_index], img_data[val_index]\n",
    "    img_labels_train, img_labels_val = img_labels[train_index], img_labels[val_index]\n",
    "    \n",
    "    regr = LogisticRegression(multi_class='multinomial', solve='sag')\n",
    "    regr.fit(img_data_train, img_labels_train)\n",
    "\n",
    "    count += 1\n",
    "    train_score[count-1] = regr.score(img_data_train, img_labels_train)\n",
    "    val_score[count-1] = regr.score(img_data_val, img_labels_val)\n",
    "    print(\"Set %d -- Train Score: %.2f Validation score: %.2f\"\n",
    "      % (count, train_score[count-1], val_score[count-1]))\n",
    "    "
   ]
  },
  {
   "cell_type": "code",
   "execution_count": 12,
   "metadata": {},
   "outputs": [
    {
     "name": "stdout",
     "output_type": "stream",
     "text": [
      "Mean Score Train: 0.35 Mean Score Validation: 0.28\n"
     ]
    }
   ],
   "source": [
    "print(\"Mean Score Train: %.2f Mean Score Validation: %.2f\" % (np.average(train_score), np.average(val_score)))"
   ]
  },
  {
   "cell_type": "code",
   "execution_count": null,
   "metadata": {
    "collapsed": true
   },
   "outputs": [],
   "source": []
  }
 ],
 "metadata": {
  "kernelspec": {
   "display_name": "Python 3",
   "language": "python",
   "name": "python3"
  },
  "language_info": {
   "codemirror_mode": {
    "name": "ipython",
    "version": 3
   },
   "file_extension": ".py",
   "mimetype": "text/x-python",
   "name": "python",
   "nbconvert_exporter": "python",
   "pygments_lexer": "ipython3",
   "version": "3.6.2"
  }
 },
 "nbformat": 4,
 "nbformat_minor": 2
}
