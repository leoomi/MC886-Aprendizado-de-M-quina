{
 "cells": [
  {
   "cell_type": "code",
   "execution_count": 5,
   "metadata": {
    "collapsed": true
   },
   "outputs": [],
   "source": [
    "import matplotlib.pyplot as plt\n",
    "import numpy as np\n",
    "from numpy import genfromtxt\n",
    "import scipy\n",
    "from sklearn.linear_model import LogisticRegression\n",
    "from sklearn.metrics import mean_squared_error\n",
    "from sklearn.model_selection import train_test_split\n",
    "from sklearn.model_selection import KFold\n",
    "from skimage import io, img_as_uint\n",
    "from skimage.color import rgb2gray\n",
    "from skimage.filters import roberts, threshold_otsu\n",
    "train_set_dir = 'cifar-10/train/'\n",
    "test_set_dir = 'cifar-10/test/'"
   ]
  },
  {
   "cell_type": "code",
   "execution_count": 6,
   "metadata": {},
   "outputs": [
    {
     "data": {
      "text/plain": [
       "(array([ 6.,  9.,  9., ...,  9.,  1.,  1.]), (50000,))"
      ]
     },
     "execution_count": 6,
     "metadata": {},
     "output_type": "execute_result"
    }
   ],
   "source": [
    "img_labels = genfromtxt(train_set_dir + 'labels')\n",
    "img_labels, img_labels.shape"
   ]
  },
  {
   "cell_type": "code",
   "execution_count": 7,
   "metadata": {},
   "outputs": [
    {
     "data": {
      "text/plain": [
       "(50000, 1024)"
      ]
     },
     "execution_count": 7,
     "metadata": {},
     "output_type": "execute_result"
    }
   ],
   "source": [
    "img_data = np.empty([50000, 1024])\n",
    "\n",
    "for i in range(0, 50000):\n",
    "    filename = '{0:05d}'.format(i) + '.png'\n",
    "    img = rgb2gray(io.imread(train_set_dir + filename)) #Reading file, converting to Grayscale and applying edge operator\n",
    "    val = threshold_otsu(img)\n",
    "    mask = img < val\n",
    "    img[mask] = 1\n",
    "    img_data[i, :] = img.flatten()"
   ]
  },
  {
   "cell_type": "code",
   "execution_count": 8,
   "metadata": {},
   "outputs": [
    {
     "data": {
      "text/plain": [
       "5"
      ]
     },
     "execution_count": 8,
     "metadata": {},
     "output_type": "execute_result"
    }
   ],
   "source": [
    "# Split the data using K-Folds, using 5 different sets\n",
    "kf = KFold(n_splits=5)\n",
    "kf.get_n_splits(img_data)"
   ]
  },
  {
   "cell_type": "code",
   "execution_count": null,
   "metadata": {},
   "outputs": [
    {
     "name": "stdout",
     "output_type": "stream",
     "text": [
      "Set 1 -- Train Score: 0.31 Validation score: 0.22\n",
      "Set 2 -- Train Score: 0.30 Validation score: 0.21\n",
      "Set 3 -- Train Score: 0.30 Validation score: 0.21\n",
      "Set 4 -- Train Score: 0.30 Validation score: 0.21\n"
     ]
    }
   ],
   "source": [
    "count = 0\n",
    "train_score = np.zeros(5)\n",
    "val_score = np.zeros(5)\n",
    "for train_index, val_index in kf.split(img_data):\n",
    "    img_data_train, img_data_val = img_data[train_index], img_data[val_index]\n",
    "    img_labels_train, img_labels_val = img_labels[train_index], img_labels[val_index]\n",
    "    \n",
    "    regr = LogisticRegression(multi_class='ovr')\n",
    "    regr.fit(img_data_train, img_labels_train)\n",
    "\n",
    "    count += 1\n",
    "    train_score[count-1] = regr.score(img_data_train, img_labels_train)\n",
    "    val_score[count-1] = regr.score(img_data_val, img_labels_val)\n",
    "    print(\"Set %d -- Train Score: %.2f Validation score: %.2f\"\n",
    "      % (count, train_score[count-1], val_score[count-1]))\n",
    "\n"
   ]
  },
  {
   "cell_type": "code",
   "execution_count": null,
   "metadata": {
    "collapsed": true
   },
   "outputs": [],
   "source": [
    "print(\"Mean Score Train: %.2f Mean Score Validation: %.2f\" % (np.average(train_score), np.average(val_score)))"
   ]
  },
  {
   "cell_type": "code",
   "execution_count": null,
   "metadata": {
    "collapsed": true
   },
   "outputs": [],
   "source": []
  }
 ],
 "metadata": {
  "kernelspec": {
   "display_name": "Python 3",
   "language": "python",
   "name": "python3"
  },
  "language_info": {
   "codemirror_mode": {
    "name": "ipython",
    "version": 3
   },
   "file_extension": ".py",
   "mimetype": "text/x-python",
   "name": "python",
   "nbconvert_exporter": "python",
   "pygments_lexer": "ipython3",
   "version": "3.6.2"
  }
 },
 "nbformat": 4,
 "nbformat_minor": 2
}
