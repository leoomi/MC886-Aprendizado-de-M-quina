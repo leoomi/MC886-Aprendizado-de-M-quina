{
 "cells": [
  {
   "cell_type": "code",
   "execution_count": 52,
   "metadata": {},
   "outputs": [],
   "source": [
    "import matplotlib.pyplot as plt\n",
    "import numpy as np\n",
    "from numpy import genfromtxt\n",
    "import scipy\n",
    "from sklearn.linear_model import LogisticRegression\n",
    "from sklearn.metrics import mean_squared_error\n",
    "from sklearn.model_selection import train_test_split\n",
    "from sklearn.model_selection import KFold\n",
    "from skimage import io\n",
    "from skimage.color import rgb2gray\n",
    "train_set_dir = 'cifar-10/train/'\n",
    "test_set_dir = 'cifar-10/test/'"
   ]
  },
  {
   "cell_type": "code",
   "execution_count": 53,
   "metadata": {},
   "outputs": [
    {
     "data": {
      "text/plain": [
       "(array([ 6.,  9.,  9., ...,  9.,  1.,  1.]), (50000,))"
      ]
     },
     "execution_count": 53,
     "metadata": {},
     "output_type": "execute_result"
    }
   ],
   "source": [
    "img_labels = genfromtxt(train_set_dir + 'labels')\n",
    "img_labels, img_labels.shape"
   ]
  },
  {
   "cell_type": "code",
   "execution_count": 54,
   "metadata": {},
   "outputs": [
    {
     "data": {
      "text/plain": [
       "array([[ 0.24092   ,  0.17760941,  0.18848824, ...,  0.73579451,\n",
       "         0.48063176,  0.38096275],\n",
       "       [ 0.67777843,  0.52780549,  0.40613176, ...,  0.53159843,\n",
       "         0.53525216,  0.53301216],\n",
       "       [ 1.        ,  0.99215686,  0.99215686, ...,  0.32693451,\n",
       "         0.32776784,  0.33168941],\n",
       "       ..., \n",
       "       [ 0.59498902,  0.59467569,  0.59690784, ...,  0.19015686,\n",
       "         0.15679725,  0.11110745],\n",
       "       [ 0.81731725,  0.8052698 ,  0.80134824, ...,  0.72649412,\n",
       "         0.74192039,  0.74389255],\n",
       "       [ 0.90086667,  0.93140588,  0.92693373, ...,  0.69465333,\n",
       "         0.64257176,  0.6386502 ]])"
      ]
     },
     "execution_count": 54,
     "metadata": {},
     "output_type": "execute_result"
    }
   ],
   "source": [
    "img_data = np.empty([50000, 1024])\n",
    "\n",
    "for i in range(0, 50000):\n",
    "    filename = '{0:05d}'.format(i) + '.png'\n",
    "    img = rgb2gray(io.imread(train_set_dir + filename)).flatten() #Reading file, converting to Grayscale and flattening img data\n",
    "    img_data[i, :] = img\n",
    "\n",
    "img_data"
   ]
  },
  {
   "cell_type": "code",
   "execution_count": 55,
   "metadata": {},
   "outputs": [
    {
     "data": {
      "text/plain": [
       "5"
      ]
     },
     "execution_count": 55,
     "metadata": {},
     "output_type": "execute_result"
    }
   ],
   "source": [
    "# Split the data using K-Folds, using 5 different sets\n",
    "kf = KFold(n_splits=5)\n",
    "kf.get_n_splits(img_data)"
   ]
  },
  {
   "cell_type": "code",
   "execution_count": null,
   "metadata": {},
   "outputs": [
    {
     "name": "stdout",
     "output_type": "stream",
     "text": [
      "Set 1 -- Train Score: 0.35 Validation score: 0.28\n",
      "Set 2 -- Train Score: 0.36 Validation score: 0.27\n",
      "Set 3 -- Train Score: 0.35 Validation score: 0.29\n"
     ]
    }
   ],
   "source": [
    "count = 0\n",
    "train_score = np.zeros(5)\n",
    "val_score = np.zeros(5)\n",
    "for train_index, val_index in kf.split(img_data):\n",
    "    img_data_train, img_data_val = img_data[train_index], img_data[val_index]\n",
    "    img_labels_train, img_labels_val = img_labels[train_index], img_labels[val_index]\n",
    "    \n",
    "    regr = LogisticRegression(multi_class='ovr')\n",
    "    regr.fit(img_data_train, img_labels_train)\n",
    "\n",
    "    count += 1\n",
    "    train_score[count-1] = regr.score(img_data_train, img_labels_train)\n",
    "    val_score[count-1] = regr.score(img_data_val, img_labels_val)\n",
    "    print(\"Set %d -- Train Score: %.2f Validation score: %.2f\"\n",
    "      % (count, train_score[count-1], val_score[count-1]))\n",
    "\n"
   ]
  },
  {
   "cell_type": "code",
   "execution_count": 7,
   "metadata": {},
   "outputs": [
    {
     "name": "stdout",
     "output_type": "stream",
     "text": [
      "Mean Train MSE: 91.25 Mean Validation MSE: 91.30\n",
      "Estimated intercept:  1951.10281144\n",
      "Coefficients:  [  8.75639345e-01  -5.62540046e-02  -4.41323415e-02   4.11333022e-03\n",
      "  -1.50999673e-02  -2.19989936e-01  -6.75886934e-03  -1.00055899e-01\n",
      "  -6.53097961e-02   2.01988381e-02  -1.68867620e-01  -2.01718001e-03\n",
      "   4.70676496e-02   3.59014415e-04  -4.47912002e-04   6.29820419e-04\n",
      "   4.12670283e-04   1.39570601e-03   1.97328269e-03   2.20417993e-03\n",
      "   7.48751599e-04  -6.44767497e-04   7.69927317e-03   2.79270644e-03\n",
      "  -3.59534246e-03   3.38734605e-05   1.61345349e-03   5.32076408e-04\n",
      "   9.88023250e-04  -1.74057071e-04  -1.41016329e-03  -1.38827440e-03\n",
      "  -5.53457219e-03   2.20287341e-03   1.36076553e-03  -5.15449816e-03\n",
      "  -2.57536356e-04   6.78848759e-04   1.37075992e-03  -1.71279897e-03\n",
      "  -2.25715740e-03  -7.57222803e-04  -1.45860693e-03  -1.93512222e-03\n",
      "  -3.27479436e-03   6.89072383e-03   4.70857954e-04  -2.02695788e-03\n",
      "   3.21436507e-04   2.01635435e-03  -3.96283765e-05  -1.84255266e-03\n",
      "   1.64339092e-03   6.18420134e-05  -4.89313034e-04   2.01908268e-04\n",
      "  -1.86933009e-03   1.91218837e-03  -1.24138205e-03   3.26890237e-04\n",
      "  -2.90887599e-03  -1.68678284e-03  -8.58504356e-03   1.14641733e-03\n",
      "  -1.98562657e-03   7.16330059e-04  -1.50875028e-04  -3.09179193e-04\n",
      "  -4.31733160e-03  -5.31523465e-03  -1.00509108e-03   3.97143175e-04\n",
      "   8.07686513e-04   4.30234281e-03   3.05384935e-03   1.49998565e-02\n",
      "   2.50626612e-04  -4.60770917e-03   1.35219732e-04  -1.90635855e-04\n",
      "  -7.18818826e-04  -6.80933343e-04   1.39869000e-03   9.48593851e-04\n",
      "   2.76360871e-02  -1.03425881e-04   1.19640628e-03  -3.18737376e-02\n",
      "  -1.29802455e-03]\n"
     ]
    }
   ],
   "source": [
    "print(\"Mean Score Train: %.2f Mean Score Validation: %.2f\" % (np.average(train_score), np.average(val_score)))"
   ]
  },
  {
   "cell_type": "code",
   "execution_count": null,
   "metadata": {
    "collapsed": true
   },
   "outputs": [],
   "source": []
  }
 ],
 "metadata": {
  "kernelspec": {
   "display_name": "Python 3",
   "language": "python",
   "name": "python3"
  },
  "language_info": {
   "codemirror_mode": {
    "name": "ipython",
    "version": 3
   },
   "file_extension": ".py",
   "mimetype": "text/x-python",
   "name": "python",
   "nbconvert_exporter": "python",
   "pygments_lexer": "ipython3",
   "version": "3.6.2"
  }
 },
 "nbformat": 4,
 "nbformat_minor": 2
}
