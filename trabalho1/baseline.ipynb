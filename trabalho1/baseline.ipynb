{
 "cells": [
  {
   "cell_type": "code",
   "execution_count": 2,
   "metadata": {
    "collapsed": true
   },
   "outputs": [],
   "source": [
    "import matplotlib.pyplot as plt\n",
    "import numpy as np\n",
    "from numpy import genfromtxt\n",
    "import scipy\n",
    "from sklearn import datasets, linear_model\n",
    "from sklearn.metrics import mean_squared_error\n",
    "from sklearn.model_selection import train_test_split\n",
    "from sklearn.model_selection import KFold"
   ]
  },
  {
   "cell_type": "code",
   "execution_count": 3,
   "metadata": {
    "collapsed": true
   },
   "outputs": [],
   "source": [
    "music_data = genfromtxt('year-prediction-msd-train.txt', delimiter=',')"
   ]
  },
  {
   "cell_type": "code",
   "execution_count": 4,
   "metadata": {},
   "outputs": [],
   "source": [
    "# Split year values from the array\n",
    "music_y = music_data[:, 0]\n",
    "\n",
    "music_x = music_data[:, 1:90]"
   ]
  },
  {
   "cell_type": "code",
   "execution_count": 5,
   "metadata": {},
   "outputs": [
    {
     "data": {
      "text/plain": [
       "5"
      ]
     },
     "execution_count": 5,
     "metadata": {},
     "output_type": "execute_result"
    }
   ],
   "source": [
    "# Split the data using K-Folds, using 5 different sets\n",
    "kf = KFold(n_splits=5)\n",
    "kf.get_n_splits(music_x)"
   ]
  },
  {
   "cell_type": "code",
   "execution_count": 6,
   "metadata": {},
   "outputs": [
    {
     "name": "stdout",
     "output_type": "stream",
     "text": [
      "Set 1 -- Train MSE: 91.45 Validation MSE: 90.51\n",
      "Set 2 -- Train MSE: 91.53 Validation MSE: 90.20\n",
      "Set 3 -- Train MSE: 90.99 Validation MSE: 92.34\n",
      "Set 4 -- Train MSE: 91.24 Validation MSE: 91.33\n",
      "Set 5 -- Train MSE: 91.05 Validation MSE: 92.12\n"
     ]
    }
   ],
   "source": [
    "count = 0\n",
    "train_mse = np.zeros(5)\n",
    "val_mse = np.zeros(5)\n",
    "for train_index, val_index in kf.split(music_x):\n",
    "    music_x_train, music_x_val = music_x[train_index], music_x[val_index]\n",
    "    music_y_train, music_y_val = music_y[train_index], music_y[val_index]\n",
    "    \n",
    "    regr = linear_model.LinearRegression(normalize = True)\n",
    "    regr.fit(music_x_train, music_y_train)\n",
    "    music_y_val_pred = regr.predict(music_x_val)\n",
    "    music_y_train_pred = regr.predict(music_x_train)\n",
    "    #print('Estimated intercept: ', regr.intercept_)\n",
    "    #print('Coefficients: ', regr.coef_)\n",
    "    count += 1\n",
    "    train_mse[count-1] = mean_squared_error(music_y_train, music_y_train_pred)\n",
    "    val_mse[count-1] = mean_squared_error(music_y_val, music_y_val_pred)\n",
    "    print(\"Set %d -- Train MSE: %.2f Validation MSE: %.2f\"\n",
    "      % (count, mean_squared_error(music_y_train, music_y_train_pred), mean_squared_error(music_y_val, music_y_val_pred)))\n",
    "\n"
   ]
  },
  {
   "cell_type": "code",
   "execution_count": 7,
   "metadata": {},
   "outputs": [
    {
     "name": "stdout",
     "output_type": "stream",
     "text": [
      "Mean Train MSE: 91.25 Mean Validation MSE: 91.30\n",
      "Estimated intercept:  1951.10281144\n",
      "Coefficients:  [  8.75639345e-01  -5.62540046e-02  -4.41323415e-02   4.11333022e-03\n",
      "  -1.50999673e-02  -2.19989936e-01  -6.75886934e-03  -1.00055899e-01\n",
      "  -6.53097961e-02   2.01988381e-02  -1.68867620e-01  -2.01718001e-03\n",
      "   4.70676496e-02   3.59014415e-04  -4.47912002e-04   6.29820419e-04\n",
      "   4.12670283e-04   1.39570601e-03   1.97328269e-03   2.20417993e-03\n",
      "   7.48751599e-04  -6.44767497e-04   7.69927317e-03   2.79270644e-03\n",
      "  -3.59534246e-03   3.38734605e-05   1.61345349e-03   5.32076408e-04\n",
      "   9.88023250e-04  -1.74057071e-04  -1.41016329e-03  -1.38827440e-03\n",
      "  -5.53457219e-03   2.20287341e-03   1.36076553e-03  -5.15449816e-03\n",
      "  -2.57536356e-04   6.78848759e-04   1.37075992e-03  -1.71279897e-03\n",
      "  -2.25715740e-03  -7.57222803e-04  -1.45860693e-03  -1.93512222e-03\n",
      "  -3.27479436e-03   6.89072383e-03   4.70857954e-04  -2.02695788e-03\n",
      "   3.21436507e-04   2.01635435e-03  -3.96283765e-05  -1.84255266e-03\n",
      "   1.64339092e-03   6.18420134e-05  -4.89313034e-04   2.01908268e-04\n",
      "  -1.86933009e-03   1.91218837e-03  -1.24138205e-03   3.26890237e-04\n",
      "  -2.90887599e-03  -1.68678284e-03  -8.58504356e-03   1.14641733e-03\n",
      "  -1.98562657e-03   7.16330059e-04  -1.50875028e-04  -3.09179193e-04\n",
      "  -4.31733160e-03  -5.31523465e-03  -1.00509108e-03   3.97143175e-04\n",
      "   8.07686513e-04   4.30234281e-03   3.05384935e-03   1.49998565e-02\n",
      "   2.50626612e-04  -4.60770917e-03   1.35219732e-04  -1.90635855e-04\n",
      "  -7.18818826e-04  -6.80933343e-04   1.39869000e-03   9.48593851e-04\n",
      "   2.76360871e-02  -1.03425881e-04   1.19640628e-03  -3.18737376e-02\n",
      "  -1.29802455e-03]\n"
     ]
    }
   ],
   "source": [
    "print(\"Mean Train MSE: %.2f Mean Validation MSE: %.2f\" % (np.average(train_mse), np.average(val_mse)))\n",
    "# The coefficients\n",
    "print('Estimated intercept: ', regr.intercept_)\n",
    "\n",
    "# The coefficients\n",
    "print('Coefficients: ', regr.coef_)"
   ]
  },
  {
   "cell_type": "code",
   "execution_count": null,
   "metadata": {
    "collapsed": true
   },
   "outputs": [],
   "source": []
  }
 ],
 "metadata": {
  "kernelspec": {
   "display_name": "Python 3",
   "language": "python",
   "name": "python3"
  },
  "language_info": {
   "codemirror_mode": {
    "name": "ipython",
    "version": 3
   },
   "file_extension": ".py",
   "mimetype": "text/x-python",
   "name": "python",
   "nbconvert_exporter": "python",
   "pygments_lexer": "ipython3",
   "version": "3.6.2"
  }
 },
 "nbformat": 4,
 "nbformat_minor": 2
}
