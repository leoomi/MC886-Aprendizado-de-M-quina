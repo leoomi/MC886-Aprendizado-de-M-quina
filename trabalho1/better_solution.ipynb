{
 "cells": [
  {
   "cell_type": "code",
   "execution_count": 1,
   "metadata": {
    "collapsed": true
   },
   "outputs": [],
   "source": [
    "import matplotlib.pyplot as plt\n",
    "import numpy as np\n",
    "from numpy import genfromtxt\n",
    "import scipy\n",
    "from sklearn import datasets, linear_model\n",
    "from sklearn.metrics import mean_squared_error\n",
    "from sklearn.model_selection import train_test_split\n",
    "from sklearn.model_selection import KFold"
   ]
  },
  {
   "cell_type": "code",
   "execution_count": 2,
   "metadata": {
    "collapsed": true
   },
   "outputs": [],
   "source": [
    "music_data = genfromtxt('year-prediction-msd-train.txt', delimiter=',')"
   ]
  },
  {
   "cell_type": "code",
   "execution_count": 123,
   "metadata": {
    "collapsed": true
   },
   "outputs": [],
   "source": [
    "# Split year values from the array\n",
    "music_y = music_data[:, 0]\n",
    "\n",
    "temp = music_data[:, 13:90]\n",
    "music_x = temp\n",
    "music_x = np.concatenate((music_x, np.power(temp, 2)), axis=1)\n",
    "music_x = np.concatenate((music_x, np.power(temp, 3)), axis=1)\n",
    "\n",
    "temp = music_data[:, 1:12]\n",
    "music_x = np.concatenate((music_x, temp), axis=1)\n",
    "music_x = np.concatenate((music_x, np.power(temp, 2)), axis=1)\n",
    "music_x = np.concatenate((music_x, np.power(temp, 3)), axis=1)\n",
    "music_x = np.concatenate((music_x, np.power(temp, 4)), axis=1)"
   ]
  },
  {
   "cell_type": "code",
   "execution_count": 124,
   "metadata": {},
   "outputs": [
    {
     "data": {
      "text/plain": [
       "5"
      ]
     },
     "execution_count": 124,
     "metadata": {},
     "output_type": "execute_result"
    }
   ],
   "source": [
    "# Split the data using K-Folds, using 5 different sets\n",
    "kf = KFold(n_splits=5)\n",
    "kf.get_n_splits(music_x)"
   ]
  },
  {
   "cell_type": "code",
   "execution_count": 125,
   "metadata": {},
   "outputs": [
    {
     "name": "stdout",
     "output_type": "stream",
     "text": [
      "Set 1 -- Train MSE: 87.11 Validation MSE: 87.24\n",
      "Set 2 -- Train MSE: 87.20 Validation MSE: 86.65\n",
      "Set 3 -- Train MSE: 86.75 Validation MSE: 88.91\n",
      "Set 4 -- Train MSE: 86.94 Validation MSE: 87.90\n",
      "Set 5 -- Train MSE: 86.81 Validation MSE: 88.20\n"
     ]
    }
   ],
   "source": [
    "count = 0\n",
    "train_mse = np.zeros(5)\n",
    "val_mse = np.zeros(5)\n",
    "for train_index, val_index in kf.split(music_x):\n",
    "    music_x_train, music_x_val = music_x[train_index], music_x[val_index]\n",
    "    music_y_train, music_y_val = music_y[train_index], music_y[val_index]\n",
    "    \n",
    "    regr = linear_model.LinearRegression(normalize = True)\n",
    "    regr.fit(music_x_train, music_y_train)\n",
    "    music_y_val_pred = regr.predict(music_x_val)\n",
    "    music_y_train_pred = regr.predict(music_x_train)\n",
    "    #print('Estimated intercept: ', regr.intercept_)\n",
    "    #print('Coefficients: ', regr.coef_)\n",
    "    count += 1\n",
    "    train_mse[count-1] = mean_squared_error(music_y_train, music_y_train_pred)\n",
    "    val_mse[count-1] = mean_squared_error(music_y_val, music_y_val_pred)\n",
    "    print(\"Set %d -- Train MSE: %.2f Validation MSE: %.2f\"\n",
    "      % (count, mean_squared_error(music_y_train, music_y_train_pred), mean_squared_error(music_y_val, music_y_val_pred)))\n",
    "\n"
   ]
  },
  {
   "cell_type": "code",
   "execution_count": 126,
   "metadata": {},
   "outputs": [
    {
     "name": "stdout",
     "output_type": "stream",
     "text": [
      "Mean Train MSE: 86.96 Mean Validation MSE: 87.78\n",
      "Estimated intercept:  1977.5363735\n",
      "Coefficients:  [  6.03339799e-02   6.75200386e-04  -8.09103029e-04   9.23168737e-04\n",
      "   3.23114134e-04   1.07864201e-04   2.23883413e-03   7.33321595e-03\n",
      "  -1.31587622e-03  -8.41816160e-03   1.65631576e-02   2.53597418e-03\n",
      "  -1.62119410e-03  -1.23075753e-04   1.62387518e-03   6.15759644e-04\n",
      "   1.26000551e-03  -8.30455029e-04  -2.01160782e-03  -7.12790591e-04\n",
      "  -2.69364611e-03   2.29442551e-03   6.50120385e-04  -6.95862092e-03\n",
      "   2.32167491e-04   6.48706852e-04   8.72477476e-04  -1.94675699e-03\n",
      "  -2.23566787e-03  -2.56666106e-04  -2.29287209e-03  -2.22816343e-03\n",
      "  -1.67651060e-03   5.81265096e-03   6.55423958e-04  -2.31731035e-03\n",
      "   4.50203762e-04   1.45940160e-03  -1.11569663e-03  -2.80722968e-03\n",
      "   1.03954090e-03   2.61599905e-04   1.99985923e-03   6.54818101e-04\n",
      "  -2.17973980e-03   2.62104436e-03  -1.77990206e-03   4.74075803e-04\n",
      "  -2.33303877e-03  -2.22375963e-03  -1.17607185e-02   7.65115491e-04\n",
      "  -2.27422352e-03   4.21887823e-04  -1.76015425e-03   2.98526189e-04\n",
      "  -3.96578596e-03  -3.87936016e-03  -1.28796793e-03   4.56310666e-04\n",
      "   1.52029150e-03   4.55140568e-03   3.61058671e-03   1.78392760e-02\n",
      "   3.25547087e-04  -4.84285444e-03  -8.89334743e-04   4.26867950e-04\n",
      "  -8.34079780e-03  -1.29601483e-03   4.47053065e-04   6.99928502e-04\n",
      "   4.09236727e-02  -3.31490870e-05   1.41056936e-03  -3.72016708e-02\n",
      "  -9.36005090e-04   1.54353196e-04  -4.22995275e-08   5.32165755e-08\n",
      "  -7.50902781e-08   6.88208454e-09   8.02161969e-08  -3.02974033e-07\n",
      "  -3.38919518e-06   1.01568927e-06   9.44893404e-06  -7.85476903e-06\n",
      "  -3.34412325e-08  -1.13007611e-06   5.04554923e-08   1.81744093e-07\n",
      "  -2.46919545e-07   4.11899864e-07   2.66163442e-06  -2.01538569e-07\n",
      "   3.82014397e-06   5.45117735e-06  -1.95182855e-06  -1.53533521e-06\n",
      "  -9.81853406e-07   5.28534690e-08   5.85484839e-08   7.37818650e-07\n",
      "  -6.34011448e-07   5.51789858e-07   6.98425231e-08   1.37025100e-06\n",
      "  -1.15188430e-06   8.93914373e-06  -4.84976524e-06  -1.62203736e-07\n",
      "   1.70528423e-07  -3.98439608e-07   4.63248927e-07   2.39794684e-08\n",
      "  -2.78690067e-07  -3.59609423e-06  -1.09309381e-06   2.58815642e-05\n",
      "  -6.11593542e-07   2.65165258e-07  -9.77976001e-07   7.21679117e-07\n",
      "  -4.77565472e-07   1.48890874e-06   3.00489810e-06   2.01790153e-05\n",
      "   3.32906548e-08   3.02278496e-07  -3.95007107e-07  -2.33670845e-06\n",
      "  -1.19321437e-06  -5.34940299e-07  -3.00385037e-06  -5.73005480e-07\n",
      "  -2.89348589e-08   2.47577825e-08  -6.39235450e-06   1.28434845e-06\n",
      "   1.98423723e-05  -1.81142988e-07  -2.73713941e-07  -3.78529161e-07\n",
      "   1.55263551e-06   2.69205055e-05   1.09289795e-07   5.01116725e-07\n",
      "  -2.25112474e-06   1.03427353e-04  -6.00117574e-07   4.14376988e-07\n",
      "   1.98098016e-04   3.00772081e-07  -6.05433061e-07   6.53910836e-13\n",
      "  -1.07819533e-12   2.45442970e-13  -1.79137957e-12  -1.90816850e-11\n",
      "  -1.65161175e-11   4.87688353e-10  -2.54260666e-10  -2.99951608e-09\n",
      "   1.13433326e-09  -2.51323512e-11  -6.73979377e-10  -2.96685233e-12\n",
      "  -1.86089086e-11  -7.79680966e-11   8.72209445e-11   4.37226787e-11\n",
      "   2.87127783e-09  -1.50224028e-09   2.05263483e-09   3.20462434e-09\n",
      "   3.29542271e-09   1.20172352e-09   1.29797360e-11  -5.25399210e-11\n",
      "   5.60888554e-11   9.74769608e-11   3.95536375e-10   3.42217309e-11\n",
      "   1.44341360e-09   3.50178817e-09   2.33142650e-08  -7.12279859e-09\n",
      "  -1.91155435e-11  -1.36921139e-10  -1.67704704e-10  -1.13742166e-10\n",
      "   3.08968463e-10   6.02223988e-10   6.16220037e-10  -3.55689098e-10\n",
      "   2.31938322e-08   9.39017685e-11   2.48010036e-11   1.16343716e-10\n",
      "  -1.26580141e-10   5.08135734e-10   4.77822739e-09   8.91982777e-09\n",
      "   2.16760383e-08  -1.23227157e-12   4.44030913e-10   5.21307200e-10\n",
      "   4.80911150e-09  -2.29003777e-10   2.23655541e-10  -1.24765105e-08\n",
      "  -1.94926273e-11  -9.42541976e-11   1.20138071e-10  -7.95928135e-09\n",
      "  -1.17899034e-08  -3.06576466e-08   3.13540433e-12   3.70619008e-09\n",
      "  -4.20541256e-11   1.31703765e-10  -9.04597598e-08   2.66989030e-11\n",
      "  -6.05594208e-10   8.39067048e-10  -1.13409182e-06   3.44531496e-10\n",
      "   1.00352305e-10  -2.52060774e-07  -6.66955207e-11   6.79894978e-01\n",
      "  -7.12012125e-02  -7.26227920e-02   2.56963533e-02  -1.45825317e-02\n",
      "  -1.71461197e-01   2.92461625e-03  -1.10856976e-01  -3.04895925e-02\n",
      "  -3.05433513e-02  -1.49531546e-01  -6.22902532e-02   2.25683212e-05\n",
      "   4.58952673e-05  -2.86975082e-04   3.40308555e-04   2.07080023e-03\n",
      "   3.12024735e-04  -3.24301118e-04  -7.47011425e-04   5.04405547e-03\n",
      "   4.88218894e-03   1.65815747e-03   9.51273015e-07   2.39704170e-06\n",
      "   7.68831686e-07  -5.54951313e-07   1.86091132e-05  -2.18764836e-06\n",
      "   1.90633743e-05  -4.58359302e-06  -4.91038318e-05   2.80731919e-04\n",
      "  -1.08311201e-05   1.12575779e-09   8.50882936e-10   4.20344296e-09\n",
      "  -2.76952184e-09  -1.96109851e-07   4.21266926e-09  -1.02137176e-07\n",
      "   9.67780061e-08  -3.21177958e-06   3.06363054e-06]\n"
     ]
    }
   ],
   "source": [
    "print(\"Mean Train MSE: %.2f Mean Validation MSE: %.2f\" % (np.average(train_mse), np.average(val_mse)))\n",
    "# The coefficients\n",
    "print('Estimated intercept: ', regr.intercept_)\n",
    "\n",
    "# The coefficients\n",
    "print('Coefficients: ', regr.coef_)"
   ]
  },
  {
   "cell_type": "code",
   "execution_count": null,
   "metadata": {
    "collapsed": true
   },
   "outputs": [],
   "source": []
  }
 ],
 "metadata": {
  "kernelspec": {
   "display_name": "Python 3",
   "language": "python",
   "name": "python3"
  },
  "language_info": {
   "codemirror_mode": {
    "name": "ipython",
    "version": 3
   },
   "file_extension": ".py",
   "mimetype": "text/x-python",
   "name": "python",
   "nbconvert_exporter": "python",
   "pygments_lexer": "ipython3",
   "version": "3.6.2"
  }
 },
 "nbformat": 4,
 "nbformat_minor": 2
}
