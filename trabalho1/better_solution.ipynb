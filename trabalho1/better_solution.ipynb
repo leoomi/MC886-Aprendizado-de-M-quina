{
 "cells": [
  {
   "cell_type": "code",
   "execution_count": 30,
   "metadata": {
    "collapsed": true
   },
   "outputs": [],
   "source": [
    "import matplotlib.pyplot as plt\n",
    "import numpy as np\n",
    "from numpy import genfromtxt\n",
    "import scipy\n",
    "from sklearn import datasets, linear_model\n",
    "from sklearn.metrics import mean_squared_error\n",
    "from sklearn.model_selection import train_test_split\n",
    "from sklearn.model_selection import KFold"
   ]
  },
  {
   "cell_type": "code",
   "execution_count": 31,
   "metadata": {
    "collapsed": true
   },
   "outputs": [],
   "source": [
    "music_data = genfromtxt('year-prediction-msd-train.txt', delimiter=',')"
   ]
  },
  {
   "cell_type": "code",
   "execution_count": 32,
   "metadata": {
    "collapsed": true
   },
   "outputs": [],
   "source": [
    "# Split year values from the array\n",
    "music_y = music_data[:, 0]\n",
    "\n",
    "music_x = music_data[:, 15:89]\n",
    "music_x = np.concatenate((music_x, np.power(music_x, 2)), axis=1)\n",
    "music_x = np.concatenate((music_x, np.power(music_x, 3)), axis=1)"
   ]
  },
  {
   "cell_type": "code",
   "execution_count": null,
   "metadata": {},
   "outputs": [
    {
     "data": {
      "text/plain": [
       "5"
      ]
     },
     "execution_count": 28,
     "metadata": {},
     "output_type": "execute_result"
    }
   ],
   "source": [
    "# Split the data using K-Folds, using 5 different sets\n",
    "kf = KFold(n_splits=5)\n",
    "kf.get_n_splits(music_x)"
   ]
  },
  {
   "cell_type": "code",
   "execution_count": null,
   "metadata": {},
   "outputs": [
    {
     "name": "stdout",
     "output_type": "stream",
     "text": [
      "Set 1 -- Test MSE: 103.79 Validation MSE: 273.60\n"
     ]
    }
   ],
   "source": [
    "count = 0\n",
    "for train_index, val_index in kf.split(music_x):\n",
    "    music_x_train, music_x_val = music_x[train_index], music_x[val_index]\n",
    "    music_y_train, music_y_val = music_y[train_index], music_y[val_index]\n",
    "    \n",
    "    regr = linear_model.LinearRegression(normalize = True)\n",
    "    regr.fit(music_x_train, music_y_train)\n",
    "    music_y_val_pred = regr.predict(music_x_val)\n",
    "    music_y_train_pred = regr.predict(music_x_train)\n",
    "    #print('Estimated intercept: ', regr.intercept_)\n",
    "    #print('Coefficients: ', regr.coef_)\n",
    "    count += 1\n",
    "    print(\"Set %d -- Test MSE: %.2f Validation MSE: %.2f\"\n",
    "      % (count, mean_squared_error(music_y_train, music_y_train_pred), mean_squared_error(music_y_val, music_y_val_pred)))"
   ]
  },
  {
   "cell_type": "code",
   "execution_count": null,
   "metadata": {
    "collapsed": true
   },
   "outputs": [],
   "source": []
  },
  {
   "cell_type": "code",
   "execution_count": null,
   "metadata": {
    "collapsed": true
   },
   "outputs": [],
   "source": []
  }
 ],
 "metadata": {
  "kernelspec": {
   "display_name": "Python 3",
   "language": "python",
   "name": "python3"
  },
  "language_info": {
   "codemirror_mode": {
    "name": "ipython",
    "version": 3
   },
   "file_extension": ".py",
   "mimetype": "text/x-python",
   "name": "python",
   "nbconvert_exporter": "python",
   "pygments_lexer": "ipython3",
   "version": "3.6.2"
  }
 },
 "nbformat": 4,
 "nbformat_minor": 2
}
