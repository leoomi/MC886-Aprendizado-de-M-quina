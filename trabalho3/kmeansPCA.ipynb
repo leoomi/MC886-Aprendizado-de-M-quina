{
 "cells": [
  {
   "cell_type": "code",
   "execution_count": 2,
   "metadata": {},
   "outputs": [
    {
     "name": "stdout",
     "output_type": "stream",
     "text": [
      "Importing libraries\n",
      "Reading data\n",
      "done\n",
      "Starting PCA\n",
      "(10000, 100)\n",
      "PCA finished\n"
     ]
    },
    {
     "ename": "NameError",
     "evalue": "name 'i' is not defined",
     "output_type": "error",
     "traceback": [
      "\u001b[0;31m---------------------------------------------------------------------------\u001b[0m",
      "\u001b[0;31mNameError\u001b[0m                                 Traceback (most recent call last)",
      "\u001b[0;32m<ipython-input-2-c28749d8a4e1>\u001b[0m in \u001b[0;36m<module>\u001b[0;34m()\u001b[0m\n\u001b[1;32m     31\u001b[0m \u001b[0mcluster_labels\u001b[0m \u001b[0;34m=\u001b[0m \u001b[0mclusterer\u001b[0m\u001b[0;34m.\u001b[0m\u001b[0mfit_predict\u001b[0m\u001b[0;34m(\u001b[0m\u001b[0mpcaX\u001b[0m\u001b[0;34m)\u001b[0m\u001b[0;34m\u001b[0m\u001b[0m\n\u001b[1;32m     32\u001b[0m \u001b[0msilhouette_avg\u001b[0m \u001b[0;34m=\u001b[0m \u001b[0msilhouette_score\u001b[0m\u001b[0;34m(\u001b[0m\u001b[0mpcaX\u001b[0m\u001b[0;34m,\u001b[0m \u001b[0mcluster_labels\u001b[0m\u001b[0;34m)\u001b[0m\u001b[0;34m\u001b[0m\u001b[0m\n\u001b[0;32m---> 33\u001b[0;31m \u001b[0mprint\u001b[0m\u001b[0;34m(\u001b[0m\u001b[0mi\u001b[0m\u001b[0;34m)\u001b[0m\u001b[0;34m\u001b[0m\u001b[0m\n\u001b[0m\u001b[1;32m     34\u001b[0m \u001b[0mprint\u001b[0m\u001b[0;34m(\u001b[0m\u001b[0;34m\"Score: \"\u001b[0m\u001b[0;34m,\u001b[0m \u001b[0msilhouette_avg\u001b[0m\u001b[0;34m)\u001b[0m\u001b[0;34m\u001b[0m\u001b[0m\n",
      "\u001b[0;31mNameError\u001b[0m: name 'i' is not defined"
     ]
    }
   ],
   "source": [
    "print(\"Importing libraries\")\n",
    "from sklearn.cluster import KMeans\n",
    "from sklearn.decomposition import PCA\n",
    "from sklearn.datasets import make_blobs\n",
    "from sklearn.cluster import KMeans\n",
    "from sklearn.metrics import silhouette_samples, silhouette_score\n",
    "\n",
    "import matplotlib.pyplot as plt\n",
    "import matplotlib.cm as cm\n",
    "import numpy as np\n",
    "\n",
    "\n",
    "print(\"Reading data\")\n",
    "data_path = \"documents/data.csv\"\n",
    "data_file = open(data_path)\n",
    "data = data_file.readlines()[:10000]\n",
    "data = [list(map(str.strip, i.split(\",\"))) for i in data]\n",
    "data = [list(map(float, i)) for i in data]\n",
    "X = np.array(data)\n",
    "print(\"done\")\n",
    "\n",
    "print(\"Starting PCA\")\n",
    "pca = PCA(n_components=100, whiten=True)\n",
    "pca.fit(X)\n",
    "pcaX = pca.transform(X)\n",
    "\n",
    "print(pcaX.shape)\n",
    "print(\"PCA finished\")\n",
    "\n",
    "clusterer = KMeans(n_clusters=151, random_state=10)\n",
    "cluster_labels = clusterer.fit_predict(pcaX)\n",
    "silhouette_avg = silhouette_score(pcaX, cluster_labels)\n",
    "print(i)\n",
    "print(\"Score: \", silhouette_avg)\n"
   ]
  },
  {
   "cell_type": "code",
   "execution_count": 14,
   "metadata": {},
   "outputs": [
    {
     "data": {
      "text/plain": [
       "array([[-0.24302602, -0.287142  ,  0.19494888, ...,  0.05725635,\n",
       "         0.41973178, -0.16749022],\n",
       "       [ 0.03393711,  0.38813026, -2.10102666, ...,  0.32707585,\n",
       "         0.66419644, -0.36164182],\n",
       "       [-0.22684868, -0.25530551, -0.07601166, ..., -0.24454904,\n",
       "        -0.83018485, -0.00790617],\n",
       "       ..., \n",
       "       [-0.07850777, -0.3820462 , -0.59361763, ...,  0.36116172,\n",
       "         0.2943101 , -0.61618724],\n",
       "       [-0.32798857,  1.69577091,  0.02687839, ...,  0.37611067,\n",
       "         0.06884325, -0.35675563],\n",
       "       [-0.24402631, -0.13230783, -0.00211059, ..., -0.01614542,\n",
       "         0.68967813,  0.09123409]])"
      ]
     },
     "execution_count": 14,
     "metadata": {},
     "output_type": "execute_result"
    }
   ],
   "source": [
    "clusterer.cluster_centers_\n"
   ]
  },
  {
   "cell_type": "code",
   "execution_count": 15,
   "metadata": {},
   "outputs": [
    {
     "data": {
      "text/plain": [
       "(array([  17,   26,   68,  223,  371,  635, 1210, 1240, 1664, 1838, 1913,\n",
       "        2001, 2464, 2583, 2656, 2713, 2828, 2833, 2994, 3565, 4247, 4418,\n",
       "        4421, 4787, 4859, 5272, 5442, 5597, 5757, 5782, 6370, 6499, 6611,\n",
       "        6758, 7157, 7268, 7508, 8108, 8208, 8497, 8753, 8921, 9287, 9314,\n",
       "        9442, 9602, 9817]),)"
      ]
     },
     "execution_count": 15,
     "metadata": {},
     "output_type": "execute_result"
    }
   ],
   "source": [
    "np.where(cluster_labels== 78)"
   ]
  },
  {
   "cell_type": "code",
   "execution_count": null,
   "metadata": {
    "collapsed": true
   },
   "outputs": [],
   "source": []
  }
 ],
 "metadata": {
  "kernelspec": {
   "display_name": "Python 3",
   "language": "python",
   "name": "python3"
  },
  "language_info": {
   "codemirror_mode": {
    "name": "ipython",
    "version": 3
   },
   "file_extension": ".py",
   "mimetype": "text/x-python",
   "name": "python",
   "nbconvert_exporter": "python",
   "pygments_lexer": "ipython3",
   "version": "3.6.2"
  }
 },
 "nbformat": 4,
 "nbformat_minor": 2
}
