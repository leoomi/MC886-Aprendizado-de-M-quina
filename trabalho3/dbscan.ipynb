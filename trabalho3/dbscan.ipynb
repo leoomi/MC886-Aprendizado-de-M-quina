{
 "cells": [
  {
   "cell_type": "code",
   "execution_count": 1,
   "metadata": {
    "collapsed": true
   },
   "outputs": [],
   "source": [
    "import matplotlib.pyplot as plt\n",
    "import numpy as np\n",
    "import sys\n",
    "from numpy import genfromtxt\n",
    "import scipy\n",
    "from sklearn.model_selection import train_test_split\n",
    "from sklearn.model_selection import KFold\n",
    "from sklearn.cluster import DBSCAN\n",
    "from sklearn.preprocessing import StandardScaler\n",
    "from sklearn.decomposition import PCA\n",
    "from sklearn import metrics\n",
    "from sklearn.metrics import pairwise_distances"
   ]
  },
  {
   "cell_type": "code",
   "execution_count": 2,
   "metadata": {
    "collapsed": true
   },
   "outputs": [],
   "source": [
    "data = genfromtxt('documents/data.csv', delimiter=',')"
   ]
  },
  {
   "cell_type": "code",
   "execution_count": 3,
   "metadata": {},
   "outputs": [
    {
     "data": {
      "text/plain": [
       "2"
      ]
     },
     "execution_count": 3,
     "metadata": {},
     "output_type": "execute_result"
    }
   ],
   "source": [
    "kf = KFold(n_splits=2)\n",
    "kf.get_n_splits(data)"
   ]
  },
  {
   "cell_type": "code",
   "execution_count": null,
   "metadata": {},
   "outputs": [
    {
     "name": "stdout",
     "output_type": "stream",
     "text": [
      "EPS 0.250000 MinS 2 -- Silhoute Score: -0.185634, CH Score: 2.960752 \n",
      "EPS 0.250000 MinS 3 -- Silhoute Score: -0.202664, CH Score: 5.147656 \n",
      "EPS 0.250000 MinS 4 -- Silhoute Score: -0.179867, CH Score: 7.110650 \n",
      "EPS 0.250000 MinS 5 -- Silhoute Score: -0.163608, CH Score: 8.449290 \n",
      "EPS 0.250000 MinS 6 -- Silhoute Score: -0.115125, CH Score: 11.263803 \n",
      "EPS 0.250000 MinS 7 -- Silhoute Score: -0.091354, CH Score: 12.541025 \n",
      "EPS 0.250000 MinS 8 -- Silhoute Score: -0.088262, CH Score: 12.939179 \n",
      "EPS 0.250000 MinS 9 -- Silhoute Score: -0.066561, CH Score: 15.462815 \n",
      "EPS 0.250000 MinS 10 -- Silhoute Score: -0.061904, CH Score: 16.000720 \n",
      "EPS 0.250000 MinS 11 -- Silhoute Score: -0.063249, CH Score: 15.851154 \n",
      "EPS 0.250000 MinS 12 -- Silhoute Score: -0.062844, CH Score: 16.269458 \n",
      "EPS 0.250000 MinS 13 -- Silhoute Score: -0.052812, CH Score: 16.742373 \n",
      "EPS 0.250000 MinS 14 -- Silhoute Score: -0.050733, CH Score: 16.788552 \n",
      "EPS 0.250000 MinS 15 -- Silhoute Score: -0.050053, CH Score: 17.320080 \n",
      "EPS 0.250000 MinS 16 -- Silhoute Score: -0.034099, CH Score: 19.993392 \n",
      "EPS 0.250000 MinS 17 -- Silhoute Score: -0.028503, CH Score: 21.019084 \n",
      "EPS 0.250000 MinS 18 -- Silhoute Score: -0.028503, CH Score: 21.019084 \n",
      "EPS 0.250000 MinS 19 -- Silhoute Score: -0.006086, CH Score: 23.969550 \n",
      "EPS 0.260000 MinS 2 -- Silhoute Score: -0.175075, CH Score: 3.007966 \n",
      "EPS 0.260000 MinS 3 -- Silhoute Score: -0.205157, CH Score: 5.154678 \n",
      "EPS 0.260000 MinS 4 -- Silhoute Score: -0.180337, CH Score: 7.196935 \n",
      "EPS 0.260000 MinS 5 -- Silhoute Score: -0.159230, CH Score: 8.930333 \n",
      "EPS 0.260000 MinS 6 -- Silhoute Score: -0.126935, CH Score: 11.556722 \n",
      "EPS 0.260000 MinS 7 -- Silhoute Score: -0.112017, CH Score: 13.322162 \n",
      "EPS 0.260000 MinS 8 -- Silhoute Score: -0.090325, CH Score: 13.038795 \n",
      "EPS 0.260000 MinS 9 -- Silhoute Score: -0.071666, CH Score: 15.293209 \n",
      "EPS 0.260000 MinS 10 -- Silhoute Score: -0.068926, CH Score: 15.827998 \n",
      "EPS 0.260000 MinS 11 -- Silhoute Score: -0.062774, CH Score: 16.426556 \n",
      "EPS 0.260000 MinS 12 -- Silhoute Score: -0.060121, CH Score: 16.932997 \n",
      "EPS 0.260000 MinS 13 -- Silhoute Score: -0.060362, CH Score: 17.274383 \n",
      "EPS 0.260000 MinS 14 -- Silhoute Score: -0.060543, CH Score: 17.232279 \n",
      "EPS 0.260000 MinS 15 -- Silhoute Score: -0.047768, CH Score: 18.200015 \n",
      "EPS 0.260000 MinS 16 -- Silhoute Score: -0.043036, CH Score: 19.359343 \n",
      "EPS 0.260000 MinS 17 -- Silhoute Score: -0.035965, CH Score: 20.301666 \n",
      "EPS 0.260000 MinS 18 -- Silhoute Score: -0.027882, CH Score: 21.954447 \n",
      "EPS 0.260000 MinS 19 -- Silhoute Score: -0.027882, CH Score: 21.954447 \n",
      "EPS 0.270000 MinS 2 -- Silhoute Score: -0.161022, CH Score: 3.083162 \n",
      "EPS 0.270000 MinS 3 -- Silhoute Score: -0.200241, CH Score: 5.179302 \n",
      "EPS 0.270000 MinS 4 -- Silhoute Score: -0.178002, CH Score: 7.360785 \n",
      "EPS 0.270000 MinS 5 -- Silhoute Score: -0.157897, CH Score: 9.123550 \n",
      "EPS 0.270000 MinS 6 -- Silhoute Score: -0.136904, CH Score: 10.762678 \n",
      "EPS 0.270000 MinS 7 -- Silhoute Score: -0.121154, CH Score: 13.211037 \n",
      "EPS 0.270000 MinS 8 -- Silhoute Score: -0.111399, CH Score: 13.461707 \n",
      "EPS 0.270000 MinS 9 -- Silhoute Score: -0.094869, CH Score: 14.549693 \n",
      "EPS 0.270000 MinS 10 -- Silhoute Score: -0.069974, CH Score: 15.699562 \n",
      "EPS 0.270000 MinS 11 -- Silhoute Score: -0.066504, CH Score: 16.654932 \n",
      "EPS 0.270000 MinS 12 -- Silhoute Score: -0.064390, CH Score: 16.916940 \n",
      "EPS 0.270000 MinS 13 -- Silhoute Score: -0.060158, CH Score: 17.637082 \n",
      "EPS 0.270000 MinS 14 -- Silhoute Score: -0.058564, CH Score: 17.971033 \n",
      "EPS 0.270000 MinS 15 -- Silhoute Score: -0.058887, CH Score: 17.880247 \n",
      "EPS 0.270000 MinS 16 -- Silhoute Score: -0.046368, CH Score: 18.851255 \n",
      "EPS 0.270000 MinS 17 -- Silhoute Score: -0.042314, CH Score: 19.953101 \n",
      "EPS 0.270000 MinS 18 -- Silhoute Score: -0.030392, CH Score: 22.931088 \n",
      "EPS 0.270000 MinS 19 -- Silhoute Score: -0.025122, CH Score: 24.205774 \n",
      "Unexpected error: <class 'KeyboardInterrupt'>\n"
     ]
    }
   ],
   "source": [
    "for train_index, val_index in kf.split(data):\n",
    "    for i in np.arange(0.25, 0.3, 0.01):\n",
    "        for j in range(2, 20):\n",
    "            try:\n",
    "                data_train, data_val = data[train_index], data[val_index]\n",
    "                dbscan = DBSCAN(eps=i, min_samples=j, n_jobs=4)\n",
    "                dbscan.fit(data_train)\n",
    "\n",
    "                sil_score = metrics.silhouette_score(data_train, dbscan.labels_, metric='euclidean')\n",
    "                ch_score = metrics.calinski_harabaz_score(data_train, dbscan.labels_)\n",
    "\n",
    "                print(\"EPS %f MinS %d -- Silhoute Score: %f, CH Score: %f \" % (i, j, sil_score, ch_score))\n",
    "            except:\n",
    "                print(\"Unexpected error:\", sys.exc_info()[0])\n",
    "                continue"
   ]
  },
  {
   "cell_type": "code",
   "execution_count": 10,
   "metadata": {},
   "outputs": [
    {
     "name": "stdout",
     "output_type": "stream",
     "text": [
      "Mean Score Train: 0.30 Mean Score Validation: 0.30\n"
     ]
    }
   ],
   "source": [
    "print(\"Mean Score Train: %.2f Mean Score Validation: %.2f\" % (np.average(train_score), np.average(val_score)))"
   ]
  },
  {
   "cell_type": "code",
   "execution_count": null,
   "metadata": {
    "collapsed": true
   },
   "outputs": [],
   "source": []
  }
 ],
 "metadata": {
  "kernelspec": {
   "display_name": "Python 3",
   "language": "python",
   "name": "python3"
  },
  "language_info": {
   "codemirror_mode": {
    "name": "ipython",
    "version": 3
   },
   "file_extension": ".py",
   "mimetype": "text/x-python",
   "name": "python",
   "nbconvert_exporter": "python",
   "pygments_lexer": "ipython3",
   "version": "3.6.2"
  }
 },
 "nbformat": 4,
 "nbformat_minor": 2
}
